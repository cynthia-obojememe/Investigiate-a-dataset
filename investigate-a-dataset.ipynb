{
 "cells": [
  {
   "cell_type": "markdown",
   "metadata": {},
   "source": [
    "> **Tip**: Welcome to the Investigate a Dataset project! You will find tips in quoted sections like this to help organize your approach to your investigation. Before submitting your project, it will be a good idea to go back through your report and remove these sections to make the presentation of your work as tidy as possible. First things first, you might want to double-click this Markdown cell and change the title so that it reflects your dataset and investigation.\n",
    "\n",
    "# Project: No-Show Appointment to Medical appointment in Brazil\n",
    "\n",
    "## Table of Contents\n",
    "<ul>\n",
    "<li><a href=\"#intro\">Introduction</a></li>\n",
    "<li><a href=\"#wrangling\">Data Wrangling</a></li>\n",
    "<li><a href=\"#eda\">Exploratory Data Analysis</a></li>\n",
    "<li><a href=\"#conclusions\">Conclusions</a></li>\n",
    "</ul>"
   ]
  },
  {
   "cell_type": "markdown",
   "metadata": {},
   "source": [
    "# Section 1\n",
    "\n",
    "### `Introduction`\n",
    "> As a mandatory part of my Data anayst study, I will be analysing the dataset of patient who had medical appointment with a medical facity in Brazil as recorded in Kaggle.com \n",
    ">\n",
    ">This dataset collects information from 100k medical appointments in Brazil and is focused on the question of whether or not patients show up for their appointment.\n",
    "\n",
    "\n",
    ">### The dataset to be analsys will address the below question.\n",
    " \n",
    ">1)  What is the ratio of patient that show up for appointment and patient that do not show-up for appointment.\n",
    ">\n",
    ">2) The Effect of Age of the patients to the attendance of appointment booked?.\n",
    ">\n",
    ">3) What group of sick people are mostly scheduled for appointments. \n",
    ">\n",
    ">4) Does Gender reflect the percentage of patient that show up for appointment?\n",
    ">\n",
    ">4) Are SMS notifications associated with lowered incidences of No Shows?\n",
    ">\n",
    ">5) If the location of the Neigbourhood is a determinant factor of patient to show or not show-up for appointments\n",
    "  \n",
    "\n"
   ]
  },
  {
   "cell_type": "code",
   "execution_count": 1,
   "metadata": {},
   "outputs": [],
   "source": [
    "# Use this cell to set up import statements for all of the packages that you\n",
    "#   plan to use.\n",
    "\n",
    "# Remember to include a 'magic word' so that your visualizations are plotted\n",
    "#   inline with the notebook. See this page for more:\n",
    "#   http://ipython.readthedocs.io/en/stable/interactive/magics.html\n",
    "import numpy as np\n",
    "import pandas as pd\n",
    "import matplotlib.pyplot as plt\n",
    "import seaborn as sns\n",
    "import time\n",
    "%matplotlib inline"
   ]
  },
  {
   "cell_type": "markdown",
   "metadata": {},
   "source": [
    "# Section 2.\n",
    "\n",
    "\n",
    "<a id='wrangling'></a>\n",
    "## Data Wrangling\n",
    "\n",
    "> **Tip**: In this section of the report, you will load in the data, check for cleanliness, and then trim and clean your dataset for analysis. Make sure that you document your steps carefully and justify your cleaning decisions.\n",
    "\n",
    "### General Properties"
   ]
  },
  {
   "cell_type": "code",
   "execution_count": 2,
   "metadata": {
    "scrolled": true
   },
   "outputs": [
    {
     "data": {
      "text/html": [
       "<div>\n",
       "<style scoped>\n",
       "    .dataframe tbody tr th:only-of-type {\n",
       "        vertical-align: middle;\n",
       "    }\n",
       "\n",
       "    .dataframe tbody tr th {\n",
       "        vertical-align: top;\n",
       "    }\n",
       "\n",
       "    .dataframe thead th {\n",
       "        text-align: right;\n",
       "    }\n",
       "</style>\n",
       "<table border=\"1\" class=\"dataframe\">\n",
       "  <thead>\n",
       "    <tr style=\"text-align: right;\">\n",
       "      <th></th>\n",
       "      <th>PatientId</th>\n",
       "      <th>AppointmentID</th>\n",
       "      <th>Gender</th>\n",
       "      <th>ScheduledDay</th>\n",
       "      <th>AppointmentDay</th>\n",
       "      <th>Age</th>\n",
       "      <th>Neighbourhood</th>\n",
       "      <th>Scholarship</th>\n",
       "      <th>Hipertension</th>\n",
       "      <th>Diabetes</th>\n",
       "      <th>Alcoholism</th>\n",
       "      <th>Handcap</th>\n",
       "      <th>SMS_received</th>\n",
       "      <th>No-show</th>\n",
       "    </tr>\n",
       "  </thead>\n",
       "  <tbody>\n",
       "    <tr>\n",
       "      <th>0</th>\n",
       "      <td>2.987250e+13</td>\n",
       "      <td>5642903</td>\n",
       "      <td>F</td>\n",
       "      <td>2016-04-29T18:38:08Z</td>\n",
       "      <td>2016-04-29T00:00:00Z</td>\n",
       "      <td>62</td>\n",
       "      <td>JARDIM DA PENHA</td>\n",
       "      <td>0</td>\n",
       "      <td>1</td>\n",
       "      <td>0</td>\n",
       "      <td>0</td>\n",
       "      <td>0</td>\n",
       "      <td>0</td>\n",
       "      <td>No</td>\n",
       "    </tr>\n",
       "    <tr>\n",
       "      <th>1</th>\n",
       "      <td>5.589978e+14</td>\n",
       "      <td>5642503</td>\n",
       "      <td>M</td>\n",
       "      <td>2016-04-29T16:08:27Z</td>\n",
       "      <td>2016-04-29T00:00:00Z</td>\n",
       "      <td>56</td>\n",
       "      <td>JARDIM DA PENHA</td>\n",
       "      <td>0</td>\n",
       "      <td>0</td>\n",
       "      <td>0</td>\n",
       "      <td>0</td>\n",
       "      <td>0</td>\n",
       "      <td>0</td>\n",
       "      <td>No</td>\n",
       "    </tr>\n",
       "    <tr>\n",
       "      <th>2</th>\n",
       "      <td>4.262962e+12</td>\n",
       "      <td>5642549</td>\n",
       "      <td>F</td>\n",
       "      <td>2016-04-29T16:19:04Z</td>\n",
       "      <td>2016-04-29T00:00:00Z</td>\n",
       "      <td>62</td>\n",
       "      <td>MATA DA PRAIA</td>\n",
       "      <td>0</td>\n",
       "      <td>0</td>\n",
       "      <td>0</td>\n",
       "      <td>0</td>\n",
       "      <td>0</td>\n",
       "      <td>0</td>\n",
       "      <td>No</td>\n",
       "    </tr>\n",
       "    <tr>\n",
       "      <th>3</th>\n",
       "      <td>8.679512e+11</td>\n",
       "      <td>5642828</td>\n",
       "      <td>F</td>\n",
       "      <td>2016-04-29T17:29:31Z</td>\n",
       "      <td>2016-04-29T00:00:00Z</td>\n",
       "      <td>8</td>\n",
       "      <td>PONTAL DE CAMBURI</td>\n",
       "      <td>0</td>\n",
       "      <td>0</td>\n",
       "      <td>0</td>\n",
       "      <td>0</td>\n",
       "      <td>0</td>\n",
       "      <td>0</td>\n",
       "      <td>No</td>\n",
       "    </tr>\n",
       "    <tr>\n",
       "      <th>4</th>\n",
       "      <td>8.841186e+12</td>\n",
       "      <td>5642494</td>\n",
       "      <td>F</td>\n",
       "      <td>2016-04-29T16:07:23Z</td>\n",
       "      <td>2016-04-29T00:00:00Z</td>\n",
       "      <td>56</td>\n",
       "      <td>JARDIM DA PENHA</td>\n",
       "      <td>0</td>\n",
       "      <td>1</td>\n",
       "      <td>1</td>\n",
       "      <td>0</td>\n",
       "      <td>0</td>\n",
       "      <td>0</td>\n",
       "      <td>No</td>\n",
       "    </tr>\n",
       "  </tbody>\n",
       "</table>\n",
       "</div>"
      ],
      "text/plain": [
       "      PatientId  AppointmentID Gender          ScheduledDay  \\\n",
       "0  2.987250e+13        5642903      F  2016-04-29T18:38:08Z   \n",
       "1  5.589978e+14        5642503      M  2016-04-29T16:08:27Z   \n",
       "2  4.262962e+12        5642549      F  2016-04-29T16:19:04Z   \n",
       "3  8.679512e+11        5642828      F  2016-04-29T17:29:31Z   \n",
       "4  8.841186e+12        5642494      F  2016-04-29T16:07:23Z   \n",
       "\n",
       "         AppointmentDay  Age      Neighbourhood  Scholarship  Hipertension  \\\n",
       "0  2016-04-29T00:00:00Z   62    JARDIM DA PENHA            0             1   \n",
       "1  2016-04-29T00:00:00Z   56    JARDIM DA PENHA            0             0   \n",
       "2  2016-04-29T00:00:00Z   62      MATA DA PRAIA            0             0   \n",
       "3  2016-04-29T00:00:00Z    8  PONTAL DE CAMBURI            0             0   \n",
       "4  2016-04-29T00:00:00Z   56    JARDIM DA PENHA            0             1   \n",
       "\n",
       "   Diabetes  Alcoholism  Handcap  SMS_received No-show  \n",
       "0         0           0        0             0      No  \n",
       "1         0           0        0             0      No  \n",
       "2         0           0        0             0      No  \n",
       "3         0           0        0             0      No  \n",
       "4         1           0        0             0      No  "
      ]
     },
     "execution_count": 2,
     "metadata": {},
     "output_type": "execute_result"
    }
   ],
   "source": [
    "## Load and read the first 5 rows of the csv dataset using the pandas function\n",
    "df = pd.read_csv('noshowappointments-kagglev2-may-2016.csv')\n",
    "df.head(5)"
   ]
  },
  {
   "cell_type": "markdown",
   "metadata": {},
   "source": [
    ">### Each columes of the dataset contains the below information about the patients to be anaysize. \n",
    "\n",
    "> - **patientId:** indicates the patient ID for each patient scheduled for apointment.\n",
    ">\n",
    "> - **appointmentID:** indicates appoint ID for each patient.\n",
    ">\n",
    "> - **gender:** This shows the gender of each patient schuedled for appointment. either Male (M) or Female (F)\n",
    ">\n",
    "> - **scheduledDay:**  This shows the scheduled Date and Time that the patient is set up their appointment.\n",
    ">\n",
    "> - **appointmentDay:**  indicates the date/time the patient called to book their appointment.\n",
    ">\n",
    "> - **age:**              State the patient's age.\n",
    ">\n",
    "> - **neighborhood:**  indicates the location of the patients.\n",
    ">\n",
    "> - **scholarship:** indicates whether or not the patient is enrolled in Brasilian welfare program Bolsa Família.\n",
    ">\n",
    "> - **hipertension:** indicates whether or not the patient is experiencing Hypertension.\n",
    ">\n",
    "> - **diabetes:**     indicates whether or not the patient is experiencing Diabetes.\n",
    ">\n",
    "> - **alcoholism:**   indicates whether or not the patient is experiencing Alcoholism.\n",
    ">\n",
    "> - **handcap:**      indicates whether or not the patient is with special needs.\n",
    ">\n",
    "> - **sms_received:** indicates whether or not the patient has received a reminder text message.\n",
    ">\n",
    "> - **show-up:**      ‘No’ if the patient showed up to their appointment, and ‘Yes’ if they did not show up.\n",
    ">"
   ]
  },
  {
   "cell_type": "code",
   "execution_count": 3,
   "metadata": {
    "scrolled": true
   },
   "outputs": [
    {
     "data": {
      "text/plain": [
       "(110527, 14)"
      ]
     },
     "execution_count": 3,
     "metadata": {},
     "output_type": "execute_result"
    }
   ],
   "source": [
    "#View the shape of the dataset to see the numbers of columes and rows\n",
    "df.shape"
   ]
  },
  {
   "cell_type": "markdown",
   "metadata": {},
   "source": [
    ">The dataset contains 110527 rows (appointments) and 14 columes"
   ]
  },
  {
   "cell_type": "code",
   "execution_count": 4,
   "metadata": {},
   "outputs": [
    {
     "name": "stdout",
     "output_type": "stream",
     "text": [
      "<class 'pandas.core.frame.DataFrame'>\n",
      "RangeIndex: 110527 entries, 0 to 110526\n",
      "Data columns (total 14 columns):\n",
      " #   Column          Non-Null Count   Dtype  \n",
      "---  ------          --------------   -----  \n",
      " 0   PatientId       110527 non-null  float64\n",
      " 1   AppointmentID   110527 non-null  int64  \n",
      " 2   Gender          110527 non-null  object \n",
      " 3   ScheduledDay    110527 non-null  object \n",
      " 4   AppointmentDay  110527 non-null  object \n",
      " 5   Age             110527 non-null  int64  \n",
      " 6   Neighbourhood   110527 non-null  object \n",
      " 7   Scholarship     110527 non-null  int64  \n",
      " 8   Hipertension    110527 non-null  int64  \n",
      " 9   Diabetes        110527 non-null  int64  \n",
      " 10  Alcoholism      110527 non-null  int64  \n",
      " 11  Handcap         110527 non-null  int64  \n",
      " 12  SMS_received    110527 non-null  int64  \n",
      " 13  No-show         110527 non-null  object \n",
      "dtypes: float64(1), int64(8), object(5)\n",
      "memory usage: 11.8+ MB\n"
     ]
    }
   ],
   "source": [
    "# View the dataframe class, range of enteries count and data type.\n",
    "df.info()"
   ]
  },
  {
   "cell_type": "code",
   "execution_count": 5,
   "metadata": {
    "scrolled": true
   },
   "outputs": [
    {
     "data": {
      "text/html": [
       "<div>\n",
       "<style scoped>\n",
       "    .dataframe tbody tr th:only-of-type {\n",
       "        vertical-align: middle;\n",
       "    }\n",
       "\n",
       "    .dataframe tbody tr th {\n",
       "        vertical-align: top;\n",
       "    }\n",
       "\n",
       "    .dataframe thead th {\n",
       "        text-align: right;\n",
       "    }\n",
       "</style>\n",
       "<table border=\"1\" class=\"dataframe\">\n",
       "  <thead>\n",
       "    <tr style=\"text-align: right;\">\n",
       "      <th></th>\n",
       "      <th>PatientId</th>\n",
       "      <th>AppointmentID</th>\n",
       "      <th>Age</th>\n",
       "      <th>Scholarship</th>\n",
       "      <th>Hipertension</th>\n",
       "      <th>Diabetes</th>\n",
       "      <th>Alcoholism</th>\n",
       "      <th>Handcap</th>\n",
       "      <th>SMS_received</th>\n",
       "    </tr>\n",
       "  </thead>\n",
       "  <tbody>\n",
       "    <tr>\n",
       "      <th>count</th>\n",
       "      <td>1.105270e+05</td>\n",
       "      <td>1.105270e+05</td>\n",
       "      <td>110527.000000</td>\n",
       "      <td>110527.000000</td>\n",
       "      <td>110527.000000</td>\n",
       "      <td>110527.000000</td>\n",
       "      <td>110527.000000</td>\n",
       "      <td>110527.000000</td>\n",
       "      <td>110527.000000</td>\n",
       "    </tr>\n",
       "    <tr>\n",
       "      <th>mean</th>\n",
       "      <td>1.474963e+14</td>\n",
       "      <td>5.675305e+06</td>\n",
       "      <td>37.088874</td>\n",
       "      <td>0.098266</td>\n",
       "      <td>0.197246</td>\n",
       "      <td>0.071865</td>\n",
       "      <td>0.030400</td>\n",
       "      <td>0.022248</td>\n",
       "      <td>0.321026</td>\n",
       "    </tr>\n",
       "    <tr>\n",
       "      <th>std</th>\n",
       "      <td>2.560949e+14</td>\n",
       "      <td>7.129575e+04</td>\n",
       "      <td>23.110205</td>\n",
       "      <td>0.297675</td>\n",
       "      <td>0.397921</td>\n",
       "      <td>0.258265</td>\n",
       "      <td>0.171686</td>\n",
       "      <td>0.161543</td>\n",
       "      <td>0.466873</td>\n",
       "    </tr>\n",
       "    <tr>\n",
       "      <th>min</th>\n",
       "      <td>3.921784e+04</td>\n",
       "      <td>5.030230e+06</td>\n",
       "      <td>-1.000000</td>\n",
       "      <td>0.000000</td>\n",
       "      <td>0.000000</td>\n",
       "      <td>0.000000</td>\n",
       "      <td>0.000000</td>\n",
       "      <td>0.000000</td>\n",
       "      <td>0.000000</td>\n",
       "    </tr>\n",
       "    <tr>\n",
       "      <th>25%</th>\n",
       "      <td>4.172614e+12</td>\n",
       "      <td>5.640286e+06</td>\n",
       "      <td>18.000000</td>\n",
       "      <td>0.000000</td>\n",
       "      <td>0.000000</td>\n",
       "      <td>0.000000</td>\n",
       "      <td>0.000000</td>\n",
       "      <td>0.000000</td>\n",
       "      <td>0.000000</td>\n",
       "    </tr>\n",
       "    <tr>\n",
       "      <th>50%</th>\n",
       "      <td>3.173184e+13</td>\n",
       "      <td>5.680573e+06</td>\n",
       "      <td>37.000000</td>\n",
       "      <td>0.000000</td>\n",
       "      <td>0.000000</td>\n",
       "      <td>0.000000</td>\n",
       "      <td>0.000000</td>\n",
       "      <td>0.000000</td>\n",
       "      <td>0.000000</td>\n",
       "    </tr>\n",
       "    <tr>\n",
       "      <th>75%</th>\n",
       "      <td>9.439172e+13</td>\n",
       "      <td>5.725524e+06</td>\n",
       "      <td>55.000000</td>\n",
       "      <td>0.000000</td>\n",
       "      <td>0.000000</td>\n",
       "      <td>0.000000</td>\n",
       "      <td>0.000000</td>\n",
       "      <td>0.000000</td>\n",
       "      <td>1.000000</td>\n",
       "    </tr>\n",
       "    <tr>\n",
       "      <th>max</th>\n",
       "      <td>9.999816e+14</td>\n",
       "      <td>5.790484e+06</td>\n",
       "      <td>115.000000</td>\n",
       "      <td>1.000000</td>\n",
       "      <td>1.000000</td>\n",
       "      <td>1.000000</td>\n",
       "      <td>1.000000</td>\n",
       "      <td>4.000000</td>\n",
       "      <td>1.000000</td>\n",
       "    </tr>\n",
       "  </tbody>\n",
       "</table>\n",
       "</div>"
      ],
      "text/plain": [
       "          PatientId  AppointmentID            Age    Scholarship  \\\n",
       "count  1.105270e+05   1.105270e+05  110527.000000  110527.000000   \n",
       "mean   1.474963e+14   5.675305e+06      37.088874       0.098266   \n",
       "std    2.560949e+14   7.129575e+04      23.110205       0.297675   \n",
       "min    3.921784e+04   5.030230e+06      -1.000000       0.000000   \n",
       "25%    4.172614e+12   5.640286e+06      18.000000       0.000000   \n",
       "50%    3.173184e+13   5.680573e+06      37.000000       0.000000   \n",
       "75%    9.439172e+13   5.725524e+06      55.000000       0.000000   \n",
       "max    9.999816e+14   5.790484e+06     115.000000       1.000000   \n",
       "\n",
       "        Hipertension       Diabetes     Alcoholism        Handcap  \\\n",
       "count  110527.000000  110527.000000  110527.000000  110527.000000   \n",
       "mean        0.197246       0.071865       0.030400       0.022248   \n",
       "std         0.397921       0.258265       0.171686       0.161543   \n",
       "min         0.000000       0.000000       0.000000       0.000000   \n",
       "25%         0.000000       0.000000       0.000000       0.000000   \n",
       "50%         0.000000       0.000000       0.000000       0.000000   \n",
       "75%         0.000000       0.000000       0.000000       0.000000   \n",
       "max         1.000000       1.000000       1.000000       4.000000   \n",
       "\n",
       "        SMS_received  \n",
       "count  110527.000000  \n",
       "mean        0.321026  \n",
       "std         0.466873  \n",
       "min         0.000000  \n",
       "25%         0.000000  \n",
       "50%         0.000000  \n",
       "75%         1.000000  \n",
       "max         1.000000  "
      ]
     },
     "execution_count": 5,
     "metadata": {},
     "output_type": "execute_result"
    }
   ],
   "source": [
    "# Check for the summary descriptive staticstic of each dataset.\n",
    "df.describe()\n"
   ]
  },
  {
   "cell_type": "markdown",
   "metadata": {},
   "source": [
    "> From the Staticstic summary of the dataset, The averge Age \"Mean\" is 37years old whiile the maximum age is 115year. However, it is observerd that Min Age indicate -1, this does not reflect an actual Age of anyone hence that information contained in the data will be dropped in the data cleaning phase"
   ]
  },
  {
   "cell_type": "code",
   "execution_count": 6,
   "metadata": {
    "scrolled": true
   },
   "outputs": [
    {
     "data": {
      "text/html": [
       "<div>\n",
       "<style scoped>\n",
       "    .dataframe tbody tr th:only-of-type {\n",
       "        vertical-align: middle;\n",
       "    }\n",
       "\n",
       "    .dataframe tbody tr th {\n",
       "        vertical-align: top;\n",
       "    }\n",
       "\n",
       "    .dataframe thead th {\n",
       "        text-align: right;\n",
       "    }\n",
       "</style>\n",
       "<table border=\"1\" class=\"dataframe\">\n",
       "  <thead>\n",
       "    <tr style=\"text-align: right;\">\n",
       "      <th></th>\n",
       "      <th>PatientId</th>\n",
       "      <th>AppointmentID</th>\n",
       "      <th>Gender</th>\n",
       "      <th>ScheduledDay</th>\n",
       "      <th>AppointmentDay</th>\n",
       "      <th>Age</th>\n",
       "      <th>Neighbourhood</th>\n",
       "      <th>Scholarship</th>\n",
       "      <th>Hipertension</th>\n",
       "      <th>Diabetes</th>\n",
       "      <th>Alcoholism</th>\n",
       "      <th>Handcap</th>\n",
       "      <th>SMS_received</th>\n",
       "      <th>No-show</th>\n",
       "    </tr>\n",
       "  </thead>\n",
       "  <tbody>\n",
       "    <tr>\n",
       "      <th>99832</th>\n",
       "      <td>4.659432e+14</td>\n",
       "      <td>5775010</td>\n",
       "      <td>F</td>\n",
       "      <td>2016-06-06T08:58:13Z</td>\n",
       "      <td>2016-06-06T00:00:00Z</td>\n",
       "      <td>-1</td>\n",
       "      <td>ROMÃO</td>\n",
       "      <td>0</td>\n",
       "      <td>0</td>\n",
       "      <td>0</td>\n",
       "      <td>0</td>\n",
       "      <td>0</td>\n",
       "      <td>0</td>\n",
       "      <td>No</td>\n",
       "    </tr>\n",
       "  </tbody>\n",
       "</table>\n",
       "</div>"
      ],
      "text/plain": [
       "          PatientId  AppointmentID Gender          ScheduledDay  \\\n",
       "99832  4.659432e+14        5775010      F  2016-06-06T08:58:13Z   \n",
       "\n",
       "             AppointmentDay  Age Neighbourhood  Scholarship  Hipertension  \\\n",
       "99832  2016-06-06T00:00:00Z   -1         ROMÃO            0             0   \n",
       "\n",
       "       Diabetes  Alcoholism  Handcap  SMS_received No-show  \n",
       "99832         0           0        0             0      No  "
      ]
     },
     "execution_count": 6,
     "metadata": {},
     "output_type": "execute_result"
    }
   ],
   "source": [
    "df.loc[df['Age']==-1]"
   ]
  },
  {
   "cell_type": "code",
   "execution_count": 7,
   "metadata": {
    "scrolled": false
   },
   "outputs": [
    {
     "data": {
      "text/plain": [
       "PatientId         0\n",
       "AppointmentID     0\n",
       "Gender            0\n",
       "ScheduledDay      0\n",
       "AppointmentDay    0\n",
       "Age               0\n",
       "Neighbourhood     0\n",
       "Scholarship       0\n",
       "Hipertension      0\n",
       "Diabetes          0\n",
       "Alcoholism        0\n",
       "Handcap           0\n",
       "SMS_received      0\n",
       "No-show           0\n",
       "dtype: int64"
      ]
     },
     "execution_count": 7,
     "metadata": {},
     "output_type": "execute_result"
    }
   ],
   "source": [
    "#Check for null val in the dataset.\n",
    "df.isnull().sum()"
   ]
  },
  {
   "cell_type": "markdown",
   "metadata": {},
   "source": [
    "#### 2.2 Duplicated Values Validation"
   ]
  },
  {
   "cell_type": "code",
   "execution_count": 8,
   "metadata": {
    "scrolled": false
   },
   "outputs": [
    {
     "data": {
      "text/plain": [
       "0"
      ]
     },
     "execution_count": 8,
     "metadata": {},
     "output_type": "execute_result"
    }
   ],
   "source": [
    "#Check for duplicate in the  dataset.\n",
    "df.duplicated().sum()"
   ]
  },
  {
   "cell_type": "markdown",
   "metadata": {},
   "source": [
    ">The result shows that there are no duplicate values on the entire dataset\n"
   ]
  },
  {
   "cell_type": "code",
   "execution_count": 9,
   "metadata": {
    "scrolled": true
   },
   "outputs": [
    {
     "data": {
      "text/plain": [
       "48228"
      ]
     },
     "execution_count": 9,
     "metadata": {},
     "output_type": "execute_result"
    }
   ],
   "source": [
    "#Check for duplicate in the PatientID data colume.\n",
    "sum(df.PatientId.duplicated())"
   ]
  },
  {
   "cell_type": "code",
   "execution_count": 10,
   "metadata": {
    "scrolled": true
   },
   "outputs": [
    {
     "data": {
      "text/plain": [
       "array([2.98724998e+13, 5.58997777e+14, 4.26296230e+12, ...,\n",
       "       7.26331493e+13, 9.96997666e+14, 1.55766317e+13])"
      ]
     },
     "execution_count": 10,
     "metadata": {},
     "output_type": "execute_result"
    }
   ],
   "source": [
    "## Check the values in the PatientId column\n",
    "df['PatientId'].unique()"
   ]
  },
  {
   "cell_type": "code",
   "execution_count": 11,
   "metadata": {},
   "outputs": [
    {
     "data": {
      "text/plain": [
       "0"
      ]
     },
     "execution_count": 11,
     "metadata": {},
     "output_type": "execute_result"
    }
   ],
   "source": [
    "#check for duplicates and similar values contained in the PatientId and AppointmentID column\n",
    "df.duplicated(['PatientId','AppointmentID']).sum()"
   ]
  },
  {
   "cell_type": "code",
   "execution_count": 12,
   "metadata": {
    "scrolled": true
   },
   "outputs": [
    {
     "data": {
      "text/plain": [
       "1334"
      ]
     },
     "execution_count": 12,
     "metadata": {},
     "output_type": "execute_result"
    }
   ],
   "source": [
    "#check for duplicates and similar values contained in the PatientId and ScheduledDay column\n",
    "df.duplicated(['PatientId','ScheduledDay']).sum()"
   ]
  },
  {
   "cell_type": "markdown",
   "metadata": {},
   "source": [
    "> The Patient ID colume has a duplicate vaules of 48228. It has a unique entries of 62299 out of the total Patent IDs of 110,527.  This indicate that a Patent may have scheduled their appointment multiples times on the same appointment date. The dataset indicate that despite multiple booking, The Appointment IDs was different. This rules out error of duplicate appointment booking. we will however keep the total patent IDs askey focus is the number of appointments booked and if the patient showed up or not for their appointment. "
   ]
  },
  {
   "cell_type": "code",
   "execution_count": 13,
   "metadata": {},
   "outputs": [
    {
     "data": {
      "text/plain": [
       "0"
      ]
     },
     "execution_count": 13,
     "metadata": {},
     "output_type": "execute_result"
    }
   ],
   "source": [
    "#Check for duplicate in the Appointment ID data colume.\n",
    "df['AppointmentID'].duplicated().sum()"
   ]
  },
  {
   "cell_type": "code",
   "execution_count": 14,
   "metadata": {
    "scrolled": true
   },
   "outputs": [
    {
     "data": {
      "text/plain": [
       "110500"
      ]
     },
     "execution_count": 14,
     "metadata": {},
     "output_type": "execute_result"
    }
   ],
   "source": [
    "#Check for duplicate in the Appointment ID data colume.\n",
    "df['AppointmentDay'].duplicated().sum()"
   ]
  },
  {
   "cell_type": "code",
   "execution_count": 15,
   "metadata": {},
   "outputs": [
    {
     "data": {
      "text/plain": [
       "array([0, 1, 2, 3, 4], dtype=int64)"
      ]
     },
     "execution_count": 15,
     "metadata": {},
     "output_type": "execute_result"
    }
   ],
   "source": [
    "#check Value unique values for the Handicap colunm\n",
    "df.Handcap.unique()"
   ]
  },
  {
   "cell_type": "markdown",
   "metadata": {},
   "source": [
    "> The Handicap column has more entires than other columns of sick people. This will be investigated further when analysing the values of the column\n"
   ]
  },
  {
   "cell_type": "code",
   "execution_count": 16,
   "metadata": {},
   "outputs": [
    {
     "data": {
      "text/plain": [
       "array([1, 0], dtype=int64)"
      ]
     },
     "execution_count": 16,
     "metadata": {},
     "output_type": "execute_result"
    }
   ],
   "source": [
    "#check Value unique values for the Hipertension colunm\n",
    "df.Hipertension.unique()"
   ]
  },
  {
   "cell_type": "code",
   "execution_count": 17,
   "metadata": {},
   "outputs": [
    {
     "data": {
      "text/plain": [
       "array([0, 1], dtype=int64)"
      ]
     },
     "execution_count": 17,
     "metadata": {},
     "output_type": "execute_result"
    }
   ],
   "source": [
    "#check Value unique values for the Diabetes colunm\n",
    "df.Diabetes.unique()"
   ]
  },
  {
   "cell_type": "code",
   "execution_count": 18,
   "metadata": {},
   "outputs": [
    {
     "data": {
      "text/plain": [
       "array([0, 1], dtype=int64)"
      ]
     },
     "execution_count": 18,
     "metadata": {},
     "output_type": "execute_result"
    }
   ],
   "source": [
    "#check Value unique values for the Alcoholism colunm\n",
    "df.Alcoholism.unique()"
   ]
  },
  {
   "cell_type": "code",
   "execution_count": 19,
   "metadata": {},
   "outputs": [
    {
     "data": {
      "text/plain": [
       "AppointmentDay      \n",
       "2016-06-06T00:00:00Z    4692\n",
       "2016-05-16T00:00:00Z    4613\n",
       "2016-05-09T00:00:00Z    4520\n",
       "2016-05-30T00:00:00Z    4514\n",
       "2016-06-08T00:00:00Z    4479\n",
       "2016-05-11T00:00:00Z    4474\n",
       "2016-06-01T00:00:00Z    4464\n",
       "2016-06-07T00:00:00Z    4416\n",
       "2016-05-12T00:00:00Z    4394\n",
       "2016-05-02T00:00:00Z    4376\n",
       "2016-05-18T00:00:00Z    4373\n",
       "2016-05-17T00:00:00Z    4372\n",
       "2016-06-02T00:00:00Z    4310\n",
       "2016-05-10T00:00:00Z    4308\n",
       "2016-05-31T00:00:00Z    4279\n",
       "2016-05-05T00:00:00Z    4273\n",
       "2016-05-19T00:00:00Z    4270\n",
       "2016-05-03T00:00:00Z    4256\n",
       "2016-05-04T00:00:00Z    4168\n",
       "2016-06-03T00:00:00Z    4090\n",
       "2016-05-24T00:00:00Z    4009\n",
       "2016-05-13T00:00:00Z    3987\n",
       "2016-05-25T00:00:00Z    3909\n",
       "2016-05-06T00:00:00Z    3879\n",
       "2016-05-20T00:00:00Z    3828\n",
       "2016-04-29T00:00:00Z    3235\n",
       "2016-05-14T00:00:00Z      39\n",
       "dtype: int64"
      ]
     },
     "execution_count": 19,
     "metadata": {},
     "output_type": "execute_result"
    }
   ],
   "source": [
    "# Have a value count of the Appointment day to see the count for repeated values.\n",
    "df.value_counts(['AppointmentDay'])"
   ]
  },
  {
   "cell_type": "code",
   "execution_count": 20,
   "metadata": {},
   "outputs": [
    {
     "data": {
      "text/plain": [
       "8719"
      ]
     },
     "execution_count": 20,
     "metadata": {},
     "output_type": "execute_result"
    }
   ],
   "source": [
    "#check for duplicates and similar values contained in the PatientId and Appointment Day column\n",
    "df.duplicated(['PatientId','AppointmentDay']).sum()"
   ]
  },
  {
   "cell_type": "markdown",
   "metadata": {
    "scrolled": true
   },
   "source": [
    "> From the above Observation of the Appointment scheduled. There seems to be high number of patients had their appointment day fixed on the same day. Comparing the the PatientId and the AppointmentDay reveals that 8719 patients had there appointment booked multiple times in a date. However each booking has a unique appointment ID which rules out possible for duplicate error. \n",
    "The Time stamp was not contained in the dataset hence we can not confirm if this was a case of patient re-boooking their appointment at different time on the same day."
   ]
  },
  {
   "cell_type": "markdown",
   "metadata": {},
   "source": [
    "\n",
    "\n",
    "# Section 3.\n",
    "## Data Cleaning \n"
   ]
  },
  {
   "cell_type": "code",
   "execution_count": 21,
   "metadata": {
    "scrolled": true
   },
   "outputs": [],
   "source": [
    "# Will drop the index row with the -1 age record to make up for a more realist Age data\n",
    "\n",
    "df.drop(index=99832 , inplace=True )"
   ]
  },
  {
   "cell_type": "code",
   "execution_count": 22,
   "metadata": {},
   "outputs": [],
   "source": [
    "#chanege the columes Titles for better presentations.\n",
    "df.columns = df.columns.str.upper()\n"
   ]
  },
  {
   "cell_type": "code",
   "execution_count": 23,
   "metadata": {
    "scrolled": true
   },
   "outputs": [],
   "source": [
    "#drop columns that are not needed at the analysis\n",
    "df.drop('PATIENTID', axis=1, inplace=True)\n",
    "df.drop('APPOINTMENTID', axis=1, inplace=True)\n"
   ]
  },
  {
   "cell_type": "code",
   "execution_count": 24,
   "metadata": {},
   "outputs": [
    {
     "data": {
      "text/html": [
       "<div>\n",
       "<style scoped>\n",
       "    .dataframe tbody tr th:only-of-type {\n",
       "        vertical-align: middle;\n",
       "    }\n",
       "\n",
       "    .dataframe tbody tr th {\n",
       "        vertical-align: top;\n",
       "    }\n",
       "\n",
       "    .dataframe thead th {\n",
       "        text-align: right;\n",
       "    }\n",
       "</style>\n",
       "<table border=\"1\" class=\"dataframe\">\n",
       "  <thead>\n",
       "    <tr style=\"text-align: right;\">\n",
       "      <th></th>\n",
       "      <th>GENDER</th>\n",
       "      <th>SCHEDULED_DAY</th>\n",
       "      <th>APPOINTMENT_DAY</th>\n",
       "      <th>AGE</th>\n",
       "      <th>NEIGHBOURHOOD</th>\n",
       "      <th>SCHOLARSHIP</th>\n",
       "      <th>HYPERTENSION</th>\n",
       "      <th>DIABETES</th>\n",
       "      <th>ALCOHOLISM</th>\n",
       "      <th>HANDICAP</th>\n",
       "      <th>SMS_RECEIVED</th>\n",
       "      <th>APPOINTMENT_STATUS</th>\n",
       "    </tr>\n",
       "  </thead>\n",
       "  <tbody>\n",
       "    <tr>\n",
       "      <th>0</th>\n",
       "      <td>F</td>\n",
       "      <td>2016-04-29T18:38:08Z</td>\n",
       "      <td>2016-04-29T00:00:00Z</td>\n",
       "      <td>62</td>\n",
       "      <td>JARDIM DA PENHA</td>\n",
       "      <td>0</td>\n",
       "      <td>1</td>\n",
       "      <td>0</td>\n",
       "      <td>0</td>\n",
       "      <td>0</td>\n",
       "      <td>0</td>\n",
       "      <td>No</td>\n",
       "    </tr>\n",
       "    <tr>\n",
       "      <th>1</th>\n",
       "      <td>M</td>\n",
       "      <td>2016-04-29T16:08:27Z</td>\n",
       "      <td>2016-04-29T00:00:00Z</td>\n",
       "      <td>56</td>\n",
       "      <td>JARDIM DA PENHA</td>\n",
       "      <td>0</td>\n",
       "      <td>0</td>\n",
       "      <td>0</td>\n",
       "      <td>0</td>\n",
       "      <td>0</td>\n",
       "      <td>0</td>\n",
       "      <td>No</td>\n",
       "    </tr>\n",
       "    <tr>\n",
       "      <th>2</th>\n",
       "      <td>F</td>\n",
       "      <td>2016-04-29T16:19:04Z</td>\n",
       "      <td>2016-04-29T00:00:00Z</td>\n",
       "      <td>62</td>\n",
       "      <td>MATA DA PRAIA</td>\n",
       "      <td>0</td>\n",
       "      <td>0</td>\n",
       "      <td>0</td>\n",
       "      <td>0</td>\n",
       "      <td>0</td>\n",
       "      <td>0</td>\n",
       "      <td>No</td>\n",
       "    </tr>\n",
       "    <tr>\n",
       "      <th>3</th>\n",
       "      <td>F</td>\n",
       "      <td>2016-04-29T17:29:31Z</td>\n",
       "      <td>2016-04-29T00:00:00Z</td>\n",
       "      <td>8</td>\n",
       "      <td>PONTAL DE CAMBURI</td>\n",
       "      <td>0</td>\n",
       "      <td>0</td>\n",
       "      <td>0</td>\n",
       "      <td>0</td>\n",
       "      <td>0</td>\n",
       "      <td>0</td>\n",
       "      <td>No</td>\n",
       "    </tr>\n",
       "    <tr>\n",
       "      <th>4</th>\n",
       "      <td>F</td>\n",
       "      <td>2016-04-29T16:07:23Z</td>\n",
       "      <td>2016-04-29T00:00:00Z</td>\n",
       "      <td>56</td>\n",
       "      <td>JARDIM DA PENHA</td>\n",
       "      <td>0</td>\n",
       "      <td>1</td>\n",
       "      <td>1</td>\n",
       "      <td>0</td>\n",
       "      <td>0</td>\n",
       "      <td>0</td>\n",
       "      <td>No</td>\n",
       "    </tr>\n",
       "  </tbody>\n",
       "</table>\n",
       "</div>"
      ],
      "text/plain": [
       "  GENDER         SCHEDULED_DAY       APPOINTMENT_DAY  AGE      NEIGHBOURHOOD  \\\n",
       "0      F  2016-04-29T18:38:08Z  2016-04-29T00:00:00Z   62    JARDIM DA PENHA   \n",
       "1      M  2016-04-29T16:08:27Z  2016-04-29T00:00:00Z   56    JARDIM DA PENHA   \n",
       "2      F  2016-04-29T16:19:04Z  2016-04-29T00:00:00Z   62      MATA DA PRAIA   \n",
       "3      F  2016-04-29T17:29:31Z  2016-04-29T00:00:00Z    8  PONTAL DE CAMBURI   \n",
       "4      F  2016-04-29T16:07:23Z  2016-04-29T00:00:00Z   56    JARDIM DA PENHA   \n",
       "\n",
       "   SCHOLARSHIP  HYPERTENSION  DIABETES  ALCOHOLISM  HANDICAP  SMS_RECEIVED  \\\n",
       "0            0             1         0           0         0             0   \n",
       "1            0             0         0           0         0             0   \n",
       "2            0             0         0           0         0             0   \n",
       "3            0             0         0           0         0             0   \n",
       "4            0             1         1           0         0             0   \n",
       "\n",
       "  APPOINTMENT_STATUS  \n",
       "0                 No  \n",
       "1                 No  \n",
       "2                 No  \n",
       "3                 No  \n",
       "4                 No  "
      ]
     },
     "execution_count": 24,
     "metadata": {},
     "output_type": "execute_result"
    }
   ],
   "source": [
    "# correct spelling and rename Columns titles \n",
    "df.rename(columns = { 'SCHEDULEDDAY': 'SCHEDULED_DAY','HIPERTENSION': 'HYPERTENSION', 'NO-SHOW':'APPOINTMENT_STATUS', 'APPOINTMENTDAY': 'APPOINTMENT_DAY', 'HANDCAP': 'HANDICAP'}, inplace = True)\n",
    "df.head()"
   ]
  },
  {
   "cell_type": "code",
   "execution_count": 25,
   "metadata": {
    "scrolled": true
   },
   "outputs": [],
   "source": [
    "#replace the output for the appointment status colum to show or no show\n",
    "df.APPOINTMENT_STATUS.replace({'Yes': 'Show','No': 'No_Show'},inplace=True)"
   ]
  },
  {
   "cell_type": "code",
   "execution_count": 26,
   "metadata": {
    "scrolled": true
   },
   "outputs": [],
   "source": [
    "#create The datafram for the status report\n",
    "No_Show =df.APPOINTMENT_STATUS == 'No_Show'\n",
    "Show =df.APPOINTMENT_STATUS == 'Show'\n"
   ]
  },
  {
   "cell_type": "code",
   "execution_count": 27,
   "metadata": {
    "scrolled": true
   },
   "outputs": [
    {
     "name": "stdout",
     "output_type": "stream",
     "text": [
      "<class 'pandas.core.frame.DataFrame'>\n",
      "Int64Index: 88207 entries, 0 to 110526\n",
      "Data columns (total 12 columns):\n",
      " #   Column              Non-Null Count  Dtype \n",
      "---  ------              --------------  ----- \n",
      " 0   GENDER              88207 non-null  object\n",
      " 1   SCHEDULED_DAY       88207 non-null  object\n",
      " 2   APPOINTMENT_DAY     88207 non-null  object\n",
      " 3   AGE                 88207 non-null  int64 \n",
      " 4   NEIGHBOURHOOD       88207 non-null  object\n",
      " 5   SCHOLARSHIP         88207 non-null  int64 \n",
      " 6   HYPERTENSION        88207 non-null  int64 \n",
      " 7   DIABETES            88207 non-null  int64 \n",
      " 8   ALCOHOLISM          88207 non-null  int64 \n",
      " 9   HANDICAP            88207 non-null  int64 \n",
      " 10  SMS_RECEIVED        88207 non-null  int64 \n",
      " 11  APPOINTMENT_STATUS  88207 non-null  object\n",
      "dtypes: int64(7), object(5)\n",
      "memory usage: 8.7+ MB\n"
     ]
    }
   ],
   "source": [
    "df[No_Show].info()"
   ]
  },
  {
   "cell_type": "code",
   "execution_count": 28,
   "metadata": {},
   "outputs": [],
   "source": [
    "# Convert AppointmentDay and ScheduledDay from String to DateTime format, and \n",
    "# create 2 columns for: appointment booking date and the appointment date.\n",
    "# Appointment Date\n",
    "df['APPOINTMENT_DAY']= pd.to_datetime(df['APPOINTMENT_DAY'])\n",
    "df[\"APPOINTMENT_DATE\"] = df[\"APPOINTMENT_DAY\"]\n",
    "\n",
    "#Drop appointment day because a new /column has been created with the specific date already contained in those colums\n",
    "df.drop(\"APPOINTMENT_DAY\",axis=1, inplace = True)\n",
    "\n",
    "# Appointment Booking Date\n",
    "df['SCHEDULED_DAY']= pd.to_datetime(df['SCHEDULED_DAY'])\n",
    "df[\"SCHEDULED_DATE\"] = df[\"SCHEDULED_DAY\"]\n",
    "\n",
    "#Drop the scheduled day \n",
    "df.drop(\"SCHEDULED_DAY\",axis=1, inplace = True)"
   ]
  },
  {
   "cell_type": "code",
   "execution_count": 29,
   "metadata": {},
   "outputs": [
    {
     "name": "stdout",
     "output_type": "stream",
     "text": [
      "<class 'pandas.core.frame.DataFrame'>\n",
      "Int64Index: 110526 entries, 0 to 110526\n",
      "Data columns (total 12 columns):\n",
      " #   Column              Non-Null Count   Dtype              \n",
      "---  ------              --------------   -----              \n",
      " 0   GENDER              110526 non-null  object             \n",
      " 1   AGE                 110526 non-null  int64              \n",
      " 2   NEIGHBOURHOOD       110526 non-null  object             \n",
      " 3   SCHOLARSHIP         110526 non-null  int64              \n",
      " 4   HYPERTENSION        110526 non-null  int64              \n",
      " 5   DIABETES            110526 non-null  int64              \n",
      " 6   ALCOHOLISM          110526 non-null  int64              \n",
      " 7   HANDICAP            110526 non-null  int64              \n",
      " 8   SMS_RECEIVED        110526 non-null  int64              \n",
      " 9   APPOINTMENT_STATUS  110526 non-null  object             \n",
      " 10  APPOINTMENT_DATE    110526 non-null  datetime64[ns, UTC]\n",
      " 11  SCHEDULED_DATE      110526 non-null  datetime64[ns, UTC]\n",
      "dtypes: datetime64[ns, UTC](2), int64(7), object(3)\n",
      "memory usage: 11.0+ MB\n"
     ]
    }
   ],
   "source": [
    "df.info ('APPOINTMENT_STATUS')"
   ]
  },
  {
   "cell_type": "code",
   "execution_count": 30,
   "metadata": {},
   "outputs": [],
   "source": [
    "#convert Schedule_Date and Appointment_DATE to datatime dtype\n",
    "df['SCHEDULED_DATE']= pd.to_datetime(df['SCHEDULED_DATE'])\n",
    "df['APPOINTMENT_DATE']= pd.to_datetime(df['APPOINTMENT_DATE'])"
   ]
  },
  {
   "cell_type": "code",
   "execution_count": 31,
   "metadata": {
    "scrolled": true
   },
   "outputs": [
    {
     "data": {
      "image/png": "[encoded data removed]",
      "text/plain": [
       "<Figure size 1152x504 with 9 Axes>"
      ]
     },
     "metadata": {
      "needs_background": "light"
     },
     "output_type": "display_data"
    }
   ],
   "source": [
    "#view the histogram of the entire data.\n",
    "df.hist(figsize= (16,7));"
   ]
  },
  {
   "cell_type": "markdown",
   "metadata": {},
   "source": [
    "## Section 4\n",
    "\n",
    "<a id='eda'></a>\n",
    "## Exploratory Data Analysis\n",
    "\n",
    "> **Tip**: Now that you've trimmed and cleaned your data, you're ready to move on to exploration. Compute statistics and create visualizations with the goal of addressing the research questions that you posed in the Introduction section. It is recommended that you be systematic with your approach. Look at one variable at a time, and then follow it up by looking at relationships between variables.\n"
   ]
  },
  {
   "cell_type": "markdown",
   "metadata": {},
   "source": [
    "### First step is to create functions to be used to calcuate our finding.\n",
    "\n"
   ]
  },
  {
   "cell_type": "code",
   "execution_count": 32,
   "metadata": {},
   "outputs": [],
   "source": [
    "#define function to calcualte the Value count of some variables using bar chart\n",
    "def v_count_calulation( vari):\n",
    "    df_pie = df[vari].value_counts()\n",
    "    plt = df_pie.plot.pie(figsize=(5,5),autopct='%1.2f%%', explode=(0., .05), fontsize = 12);\n",
    "    plt.set_title(vari + ' (%) (Per appointment)\\n', fontsize = 15);\n",
    "    return np.round(df_pie/df.shape[0]*100,2)\n"
   ]
  },
  {
   "cell_type": "markdown",
   "metadata": {},
   "source": [
    "\n",
    "### Research Question 1 : What is the ratio of patient that show up for appointment and patient that do not show-up for appointment.\n",
    "\n",
    ">Questions\n",
    "\n",
    ">What is the overall ratio of appointment show-up vs. no show-up rate?\n",
    "We will conduct a process of get the percentage of patient that showed up and did not show up for their apppointment\n",
    ">"
   ]
  },
  {
   "cell_type": "code",
   "execution_count": 33,
   "metadata": {
    "scrolled": true
   },
   "outputs": [
    {
     "data": {
      "text/plain": [
       "No_Show    88207\n",
       "Show       22319\n",
       "Name: APPOINTMENT_STATUS, dtype: int64"
      ]
     },
     "execution_count": 33,
     "metadata": {},
     "output_type": "execute_result"
    }
   ],
   "source": [
    "#Do a value count of the appointment status to get the count of both the patients that showup and those that didnt.\n",
    "df.APPOINTMENT_STATUS.value_counts()"
   ]
  },
  {
   "cell_type": "code",
   "execution_count": 34,
   "metadata": {
    "scrolled": true
   },
   "outputs": [
    {
     "data": {
      "text/plain": [
       "(AGE             37.790504\n",
       " SCHOLARSHIP      0.093904\n",
       " HYPERTENSION     0.204394\n",
       " DIABETES         0.073838\n",
       " ALCOHOLISM       0.030417\n",
       " HANDICAP         0.022742\n",
       " SMS_RECEIVED     0.291337\n",
       " dtype: float64,\n",
       " AGE             34.317667\n",
       " SCHOLARSHIP      0.115507\n",
       " HYPERTENSION     0.169004\n",
       " DIABETES         0.064071\n",
       " ALCOHOLISM       0.030333\n",
       " HANDICAP         0.020297\n",
       " SMS_RECEIVED     0.438371\n",
       " dtype: float64)"
      ]
     },
     "execution_count": 34,
     "metadata": {},
     "output_type": "execute_result"
    }
   ],
   "source": [
    "#get the mean value for the appointment status and the max\n",
    "df[No_Show].mean(numeric_only=True),df[Show].mean(numeric_only=True)"
   ]
  },
  {
   "cell_type": "code",
   "execution_count": 35,
   "metadata": {
    "scrolled": true
   },
   "outputs": [
    {
     "data": {
      "text/plain": [
       "No_Show    79.81\n",
       "Show       20.19\n",
       "Name: APPOINTMENT_STATUS, dtype: float64"
      ]
     },
     "execution_count": 35,
     "metadata": {},
     "output_type": "execute_result"
    },
    {
     "data": {
      "image/png": "[encoded data removed]",
      "text/plain": [
       "<Figure size 360x360 with 1 Axes>"
      ]
     },
     "metadata": {},
     "output_type": "display_data"
    }
   ],
   "source": [
    "#Using the Def for value count to get the pie for the appointment status\n",
    "v_count_calulation('APPOINTMENT_STATUS')\n"
   ]
  },
  {
   "cell_type": "markdown",
   "metadata": {},
   "source": [
    "> Looking at the above chart, we find that patient didnt show up for a large pecentage of the appointment booked. Only a 25% of the scheduled appointment by paitent were kept while,Patient didnt show up for  79.81% appointment scheduled. "
   ]
  },
  {
   "cell_type": "markdown",
   "metadata": {},
   "source": [
    "### Research Question 2:  The Effect of Age of the patients to the attendance of appointment booked\n"
   ]
  },
  {
   "cell_type": "code",
   "execution_count": 36,
   "metadata": {
    "scrolled": true
   },
   "outputs": [
    {
     "data": {
      "text/plain": [
       "count    110526.000000\n",
       "mean         37.089219\n",
       "std          23.110026\n",
       "min           0.000000\n",
       "25%          18.000000\n",
       "50%          37.000000\n",
       "75%          55.000000\n",
       "max         115.000000\n",
       "Name: AGE, dtype: float64"
      ]
     },
     "execution_count": 36,
     "metadata": {},
     "output_type": "execute_result"
    }
   ],
   "source": [
    "#get the statistic of the Age colume\n",
    "df.AGE.describe()"
   ]
  },
  {
   "cell_type": "code",
   "execution_count": 37,
   "metadata": {
    "scrolled": false
   },
   "outputs": [
    {
     "name": "stdout",
     "output_type": "stream",
     "text": [
      "Patient that show up for Appointments Mean Age:34.32\n",
      "Patient that didnt show up forAppointments Mean Age:37.79\n"
     ]
    },
    {
     "data": {
      "image/png": "[encoded data removed]",
      "text/plain": [
       "<Figure size 432x288 with 1 Axes>"
      ]
     },
     "metadata": {
      "needs_background": "light"
     },
     "output_type": "display_data"
    }
   ],
   "source": [
    "#Get the mean age of patients that showed up and those that didnt\n",
    "df.groupby('APPOINTMENT_STATUS')['AGE'].mean().plot(kind= 'bar');\n",
    "\n",
    "print('Patient that show up for Appointments Mean Age:{:.2f}'.format(df[Show].AGE.mean()))\n",
    "print('Patient that didnt show up forAppointments Mean Age:{:.2f}'.format(df[No_Show].AGE.mean()))"
   ]
  },
  {
   "cell_type": "markdown",
   "metadata": {},
   "source": [
    "> The analysis shows that the average age a paient scheduled for the appointment is 37 year of age and an average of age of the patient that showed up for their appointment. \n",
    ">This implys that most of the patient scheudled for the medical appointment are mid-ages of between 30-60years old. with the max age been 115years."
   ]
  },
  {
   "cell_type": "code",
   "execution_count": 38,
   "metadata": {},
   "outputs": [
    {
     "data": {
      "image/png": "[encoded data removed]",
      "text/plain": [
       "<Figure size 720x288 with 1 Axes>"
      ]
     },
     "metadata": {
      "needs_background": "light"
     },
     "output_type": "display_data"
    }
   ],
   "source": [
    "#compare data from Age to the appointment scheduled patients\n",
    "def compare_data(df,section,show,noshow):\n",
    "    plt.figure(figsize=(10,4))\n",
    "    df[Show].AGE.hist(alpha=0.5, bins=10, color= 'Red',label='Show')\n",
    "    df[No_Show].AGE.hist(alpha=0.5, bins=10,color= 'Blue', label='No Show')\n",
    "    plt.legend();\n",
    "    plt.title('comparison of AGE of Appointment scheduled patients')\n",
    "    plt.ylabel('patients')\n",
    "    plt.legend();\n",
    "compare_data(df,'AGE',Show,No_Show)"
   ]
  },
  {
   "cell_type": "markdown",
   "metadata": {},
   "source": [
    "> The analysis shows that majority most patient that showed up for their appointment are between the age 0-10years old. while the least age that didnt show up for the appoint are within the Age 80-100 years old. \n",
    "> This may be beacuse infant from 0-10years old require adequate attention in their young years. \n"
   ]
  },
  {
   "cell_type": "markdown",
   "metadata": {},
   "source": [
    " ### Research Question 3:  What group of sick people are mostly secheduled for appointments."
   ]
  },
  {
   "cell_type": "code",
   "execution_count": 39,
   "metadata": {},
   "outputs": [
    {
     "data": {
      "text/html": [
       "<style type=\"text/css\">\n",
       "#T_b0b7f_row0_col0, #T_b0b7f_row1_col1, #T_b0b7f_row2_col2, #T_b0b7f_row3_col3, #T_b0b7f_row4_col4, #T_b0b7f_row5_col5, #T_b0b7f_row6_col6 {\n",
       "  background-color: #00441b;\n",
       "  color: #f1f1f1;\n",
       "}\n",
       "#T_b0b7f_row0_col1, #T_b0b7f_row1_col0 {\n",
       "  background-color: #f7fcf5;\n",
       "  color: #000000;\n",
       "}\n",
       "#T_b0b7f_row0_col2, #T_b0b7f_row2_col0 {\n",
       "  background-color: #62bb6d;\n",
       "  color: #f1f1f1;\n",
       "}\n",
       "#T_b0b7f_row0_col3, #T_b0b7f_row3_col0 {\n",
       "  background-color: #a8dca2;\n",
       "  color: #000000;\n",
       "}\n",
       "#T_b0b7f_row0_col4, #T_b0b7f_row4_col0 {\n",
       "  background-color: #daf0d4;\n",
       "  color: #000000;\n",
       "}\n",
       "#T_b0b7f_row0_col5, #T_b0b7f_row5_col0 {\n",
       "  background-color: #def2d9;\n",
       "  color: #000000;\n",
       "}\n",
       "#T_b0b7f_row0_col6, #T_b0b7f_row3_col4, #T_b0b7f_row4_col3, #T_b0b7f_row6_col0 {\n",
       "  background-color: #e9f7e5;\n",
       "  color: #000000;\n",
       "}\n",
       "#T_b0b7f_row1_col2, #T_b0b7f_row2_col1 {\n",
       "  background-color: #edf8ea;\n",
       "  color: #000000;\n",
       "}\n",
       "#T_b0b7f_row1_col3, #T_b0b7f_row3_col1, #T_b0b7f_row4_col6, #T_b0b7f_row6_col4 {\n",
       "  background-color: #eff9eb;\n",
       "  color: #000000;\n",
       "}\n",
       "#T_b0b7f_row1_col4, #T_b0b7f_row4_col1 {\n",
       "  background-color: #e7f6e2;\n",
       "  color: #000000;\n",
       "}\n",
       "#T_b0b7f_row1_col5, #T_b0b7f_row2_col6, #T_b0b7f_row5_col1, #T_b0b7f_row6_col2 {\n",
       "  background-color: #ecf8e8;\n",
       "  color: #000000;\n",
       "}\n",
       "#T_b0b7f_row1_col6, #T_b0b7f_row4_col5, #T_b0b7f_row5_col4, #T_b0b7f_row6_col1 {\n",
       "  background-color: #ebf7e7;\n",
       "  color: #000000;\n",
       "}\n",
       "#T_b0b7f_row2_col3, #T_b0b7f_row3_col2 {\n",
       "  background-color: #7ac77b;\n",
       "  color: #000000;\n",
       "}\n",
       "#T_b0b7f_row2_col4, #T_b0b7f_row4_col2 {\n",
       "  background-color: #dbf1d6;\n",
       "  color: #000000;\n",
       "}\n",
       "#T_b0b7f_row2_col5, #T_b0b7f_row5_col2 {\n",
       "  background-color: #ddf2d8;\n",
       "  color: #000000;\n",
       "}\n",
       "#T_b0b7f_row3_col5, #T_b0b7f_row5_col3 {\n",
       "  background-color: #e2f4dd;\n",
       "  color: #000000;\n",
       "}\n",
       "#T_b0b7f_row3_col6, #T_b0b7f_row6_col3 {\n",
       "  background-color: #edf8e9;\n",
       "  color: #000000;\n",
       "}\n",
       "#T_b0b7f_row5_col6, #T_b0b7f_row6_col5 {\n",
       "  background-color: #eef8ea;\n",
       "  color: #000000;\n",
       "}\n",
       "</style>\n",
       "<table id=\"T_b0b7f\">\n",
       "  <thead>\n",
       "    <tr>\n",
       "      <th class=\"blank level0\" >&nbsp;</th>\n",
       "      <th id=\"T_b0b7f_level0_col0\" class=\"col_heading level0 col0\" >AGE</th>\n",
       "      <th id=\"T_b0b7f_level0_col1\" class=\"col_heading level0 col1\" >SCHOLARSHIP</th>\n",
       "      <th id=\"T_b0b7f_level0_col2\" class=\"col_heading level0 col2\" >HYPERTENSION</th>\n",
       "      <th id=\"T_b0b7f_level0_col3\" class=\"col_heading level0 col3\" >DIABETES</th>\n",
       "      <th id=\"T_b0b7f_level0_col4\" class=\"col_heading level0 col4\" >ALCOHOLISM</th>\n",
       "      <th id=\"T_b0b7f_level0_col5\" class=\"col_heading level0 col5\" >HANDICAP</th>\n",
       "      <th id=\"T_b0b7f_level0_col6\" class=\"col_heading level0 col6\" >SMS_RECEIVED</th>\n",
       "    </tr>\n",
       "  </thead>\n",
       "  <tbody>\n",
       "    <tr>\n",
       "      <th id=\"T_b0b7f_level0_row0\" class=\"row_heading level0 row0\" >AGE</th>\n",
       "      <td id=\"T_b0b7f_row0_col0\" class=\"data row0 col0\" >1.000000</td>\n",
       "      <td id=\"T_b0b7f_row0_col1\" class=\"data row0 col1\" >-0.092463</td>\n",
       "      <td id=\"T_b0b7f_row0_col2\" class=\"data row0 col2\" >0.504586</td>\n",
       "      <td id=\"T_b0b7f_row0_col3\" class=\"data row0 col3\" >0.292391</td>\n",
       "      <td id=\"T_b0b7f_row0_col4\" class=\"data row0 col4\" >0.095810</td>\n",
       "      <td id=\"T_b0b7f_row0_col5\" class=\"data row0 col5\" >0.078032</td>\n",
       "      <td id=\"T_b0b7f_row0_col6\" class=\"data row0 col6\" >0.012633</td>\n",
       "    </tr>\n",
       "    <tr>\n",
       "      <th id=\"T_b0b7f_level0_row1\" class=\"row_heading level0 row1\" >SCHOLARSHIP</th>\n",
       "      <td id=\"T_b0b7f_row1_col0\" class=\"data row1 col0\" >-0.092463</td>\n",
       "      <td id=\"T_b0b7f_row1_col1\" class=\"data row1 col1\" >1.000000</td>\n",
       "      <td id=\"T_b0b7f_row1_col2\" class=\"data row1 col2\" >-0.019730</td>\n",
       "      <td id=\"T_b0b7f_row1_col3\" class=\"data row1 col3\" >-0.024894</td>\n",
       "      <td id=\"T_b0b7f_row1_col4\" class=\"data row1 col4\" >0.035022</td>\n",
       "      <td id=\"T_b0b7f_row1_col5\" class=\"data row1 col5\" >-0.008587</td>\n",
       "      <td id=\"T_b0b7f_row1_col6\" class=\"data row1 col6\" >0.001192</td>\n",
       "    </tr>\n",
       "    <tr>\n",
       "      <th id=\"T_b0b7f_level0_row2\" class=\"row_heading level0 row2\" >HYPERTENSION</th>\n",
       "      <td id=\"T_b0b7f_row2_col0\" class=\"data row2 col0\" >0.504586</td>\n",
       "      <td id=\"T_b0b7f_row2_col1\" class=\"data row2 col1\" >-0.019730</td>\n",
       "      <td id=\"T_b0b7f_row2_col2\" class=\"data row2 col2\" >1.000000</td>\n",
       "      <td id=\"T_b0b7f_row2_col3\" class=\"data row2 col3\" >0.433085</td>\n",
       "      <td id=\"T_b0b7f_row2_col4\" class=\"data row2 col4\" >0.087970</td>\n",
       "      <td id=\"T_b0b7f_row2_col5\" class=\"data row2 col5\" >0.080083</td>\n",
       "      <td id=\"T_b0b7f_row2_col6\" class=\"data row2 col6\" >-0.006270</td>\n",
       "    </tr>\n",
       "    <tr>\n",
       "      <th id=\"T_b0b7f_level0_row3\" class=\"row_heading level0 row3\" >DIABETES</th>\n",
       "      <td id=\"T_b0b7f_row3_col0\" class=\"data row3 col0\" >0.292391</td>\n",
       "      <td id=\"T_b0b7f_row3_col1\" class=\"data row3 col1\" >-0.024894</td>\n",
       "      <td id=\"T_b0b7f_row3_col2\" class=\"data row3 col2\" >0.433085</td>\n",
       "      <td id=\"T_b0b7f_row3_col3\" class=\"data row3 col3\" >1.000000</td>\n",
       "      <td id=\"T_b0b7f_row3_col4\" class=\"data row3 col4\" >0.018473</td>\n",
       "      <td id=\"T_b0b7f_row3_col5\" class=\"data row3 col5\" >0.057530</td>\n",
       "      <td id=\"T_b0b7f_row3_col6\" class=\"data row3 col6\" >-0.014552</td>\n",
       "    </tr>\n",
       "    <tr>\n",
       "      <th id=\"T_b0b7f_level0_row4\" class=\"row_heading level0 row4\" >ALCOHOLISM</th>\n",
       "      <td id=\"T_b0b7f_row4_col0\" class=\"data row4 col0\" >0.095810</td>\n",
       "      <td id=\"T_b0b7f_row4_col1\" class=\"data row4 col1\" >0.035022</td>\n",
       "      <td id=\"T_b0b7f_row4_col2\" class=\"data row4 col2\" >0.087970</td>\n",
       "      <td id=\"T_b0b7f_row4_col3\" class=\"data row4 col3\" >0.018473</td>\n",
       "      <td id=\"T_b0b7f_row4_col4\" class=\"data row4 col4\" >1.000000</td>\n",
       "      <td id=\"T_b0b7f_row4_col5\" class=\"data row4 col5\" >0.004647</td>\n",
       "      <td id=\"T_b0b7f_row4_col6\" class=\"data row4 col6\" >-0.026149</td>\n",
       "    </tr>\n",
       "    <tr>\n",
       "      <th id=\"T_b0b7f_level0_row5\" class=\"row_heading level0 row5\" >HANDICAP</th>\n",
       "      <td id=\"T_b0b7f_row5_col0\" class=\"data row5 col0\" >0.078032</td>\n",
       "      <td id=\"T_b0b7f_row5_col1\" class=\"data row5 col1\" >-0.008587</td>\n",
       "      <td id=\"T_b0b7f_row5_col2\" class=\"data row5 col2\" >0.080083</td>\n",
       "      <td id=\"T_b0b7f_row5_col3\" class=\"data row5 col3\" >0.057530</td>\n",
       "      <td id=\"T_b0b7f_row5_col4\" class=\"data row5 col4\" >0.004647</td>\n",
       "      <td id=\"T_b0b7f_row5_col5\" class=\"data row5 col5\" >1.000000</td>\n",
       "      <td id=\"T_b0b7f_row5_col6\" class=\"data row5 col6\" >-0.024162</td>\n",
       "    </tr>\n",
       "    <tr>\n",
       "      <th id=\"T_b0b7f_level0_row6\" class=\"row_heading level0 row6\" >SMS_RECEIVED</th>\n",
       "      <td id=\"T_b0b7f_row6_col0\" class=\"data row6 col0\" >0.012633</td>\n",
       "      <td id=\"T_b0b7f_row6_col1\" class=\"data row6 col1\" >0.001192</td>\n",
       "      <td id=\"T_b0b7f_row6_col2\" class=\"data row6 col2\" >-0.006270</td>\n",
       "      <td id=\"T_b0b7f_row6_col3\" class=\"data row6 col3\" >-0.014552</td>\n",
       "      <td id=\"T_b0b7f_row6_col4\" class=\"data row6 col4\" >-0.026149</td>\n",
       "      <td id=\"T_b0b7f_row6_col5\" class=\"data row6 col5\" >-0.024162</td>\n",
       "      <td id=\"T_b0b7f_row6_col6\" class=\"data row6 col6\" >1.000000</td>\n",
       "    </tr>\n",
       "  </tbody>\n",
       "</table>\n"
      ],
      "text/plain": [
       "<pandas.io.formats.style.Styler at 0x1e8c6555520>"
      ]
     },
     "execution_count": 39,
     "metadata": {},
     "output_type": "execute_result"
    }
   ],
   "source": [
    "# the highest correlation is for hypertension and age, hypertension and diabetes, and diabetes and age\n",
    "df.corr().style.background_gradient(axis=None,cmap='Greens')"
   ]
  },
  {
   "cell_type": "code",
   "execution_count": 40,
   "metadata": {
    "scrolled": false
   },
   "outputs": [
    {
     "data": {
      "image/png": "[encoded data removed]",
      "text/plain": [
       "<Figure size 432x216 with 1 Axes>"
      ]
     },
     "metadata": {
      "needs_background": "light"
     },
     "output_type": "display_data"
    }
   ],
   "source": [
    "#mean age of patients with HYPERTENSION  and if they showed up\n",
    "plt.figure(figsize=(6,3))\n",
    "df[Show].groupby('HYPERTENSION').mean()['AGE'].plot(kind='bar',color='red',alpha =0.50,label='Show')\n",
    "df[No_Show].groupby('HYPERTENSION').mean()['AGE'].plot(kind='bar',color='blue',alpha =0.50,label='No_Show')\n",
    "plt.legend()\n",
    "plt.legend()\n",
    "plt.title( 'Compare HYPERTENSION and Age to Appointment booking')\n",
    "plt.xlabel('HYPERTENSION')\n",
    "plt.ylabel('Mean Age');\n"
   ]
  },
  {
   "cell_type": "code",
   "execution_count": 41,
   "metadata": {},
   "outputs": [
    {
     "data": {
      "image/png": "[encoded data removed]",
      "text/plain": [
       "<Figure size 432x216 with 1 Axes>"
      ]
     },
     "metadata": {
      "needs_background": "light"
     },
     "output_type": "display_data"
    }
   ],
   "source": [
    "#mean age of patients with DIABETES  and if they showed up\n",
    "plt.figure(figsize=(6,3))\n",
    "df[Show].groupby('DIABETES').mean()['AGE'].plot(kind='bar',color='blue',alpha =0.50,label='Show')\n",
    "df[No_Show].groupby('DIABETES').mean()['AGE'].plot(kind='bar',color='red',alpha =0.50,label='No_Show')\n",
    "plt.legend()\n",
    "plt.title( 'Compare DIABETES and Age to Appointment booking')\n",
    "plt.xlabel('DIABETES')\n",
    "plt.ylabel('Mean Age')\n",
    "plt.show()"
   ]
  },
  {
   "cell_type": "code",
   "execution_count": 42,
   "metadata": {},
   "outputs": [
    {
     "data": {
      "image/png": "[encoded data removed]",
      "text/plain": [
       "<Figure size 432x288 with 1 Axes>"
      ]
     },
     "metadata": {
      "needs_background": "light"
     },
     "output_type": "display_data"
    }
   ],
   "source": [
    "#mean age of patients with alcoholism and if they showed up\n",
    "df[Show].groupby('ALCOHOLISM').mean()['AGE'].plot(kind='bar',color='green',alpha =0.50,label='Show')\n",
    "df[No_Show].groupby('ALCOHOLISM').mean()['AGE'].plot(kind='bar',color='red',alpha =0.50,label='No_Show')\n",
    "plt.legend()\n",
    "plt.title( 'Compare ALCOHOLISM and Age to Appointment booking')\n",
    "plt.xlabel('ALCOHOLISM')\n",
    "plt.ylabel('Mean Age');\n"
   ]
  },
  {
   "cell_type": "markdown",
   "metadata": {},
   "source": [
    ">After analysing the apppointment status of patients per age, It indicate that illness doesnt significaely   has any effect to the patients that showed up and those that didnt. The patients seems to be bewteen the age 30-60 years of age\n"
   ]
  },
  {
   "cell_type": "markdown",
   "metadata": {},
   "source": [
    "### Research Question 4: Does Gender reflect the percentage of patient that show up for appointment?\n"
   ]
  },
  {
   "cell_type": "code",
   "execution_count": 43,
   "metadata": {},
   "outputs": [
    {
     "data": {
      "text/plain": [
       "F    71839\n",
       "M    38687\n",
       "Name: GENDER, dtype: int64"
      ]
     },
     "execution_count": 43,
     "metadata": {},
     "output_type": "execute_result"
    }
   ],
   "source": [
    "#Do a value count to get the number of appointmnet that are booked by (F) female and those booked by male(M)\n",
    "df.GENDER.value_counts()\n"
   ]
  },
  {
   "cell_type": "code",
   "execution_count": 44,
   "metadata": {
    "scrolled": true
   },
   "outputs": [
    {
     "data": {
      "text/plain": [
       "(GENDER\n",
       " F    39.591126\n",
       " M    34.461372\n",
       " Name: AGE, dtype: float64,\n",
       " GENDER\n",
       " F    36.16219\n",
       " M    30.83301\n",
       " Name: AGE, dtype: float64)"
      ]
     },
     "execution_count": 44,
     "metadata": {},
     "output_type": "execute_result"
    }
   ],
   "source": [
    "#Check the average ages of the most gender that showed up for their appointment and those that didnt\n",
    "df[No_Show].groupby('GENDER')['AGE'].mean(),df[Show].groupby('GENDER')['AGE'].mean()\n"
   ]
  },
  {
   "cell_type": "code",
   "execution_count": 45,
   "metadata": {
    "scrolled": true
   },
   "outputs": [
    {
     "data": {
      "text/plain": [
       "F    65.0\n",
       "M    35.0\n",
       "Name: GENDER, dtype: float64"
      ]
     },
     "execution_count": 45,
     "metadata": {},
     "output_type": "execute_result"
    },
    {
     "data": {
      "image/png": "[encoded data removed]",
      "text/plain": [
       "<Figure size 360x360 with 1 Axes>"
      ]
     },
     "metadata": {},
     "output_type": "display_data"
    }
   ],
   "source": [
    "#Show a visual display of the gender count\n",
    "v_count_calulation('GENDER')"
   ]
  },
  {
   "cell_type": "code",
   "execution_count": 46,
   "metadata": {},
   "outputs": [
    {
     "data": {
      "text/plain": [
       "APPOINTMENT_STATUS\n",
       "No_Show    88207\n",
       "Show       22319\n",
       "Name: GENDER, dtype: int64"
      ]
     },
     "execution_count": 46,
     "metadata": {},
     "output_type": "execute_result"
    }
   ],
   "source": [
    "df.groupby('APPOINTMENT_STATUS').GENDER.count()"
   ]
  },
  {
   "cell_type": "markdown",
   "metadata": {},
   "source": [
    "\n"
   ]
  },
  {
   "cell_type": "markdown",
   "metadata": {},
   "source": [
    "### Research Question 4: Are SMS notifications associated with lowered incidences of No Shows?"
   ]
  },
  {
   "cell_type": "code",
   "execution_count": 47,
   "metadata": {},
   "outputs": [
    {
     "data": {
      "text/plain": [
       "0    75044\n",
       "1    35482\n",
       "Name: SMS_RECEIVED, dtype: int64"
      ]
     },
     "execution_count": 47,
     "metadata": {},
     "output_type": "execute_result"
    }
   ],
   "source": [
    "df.SMS_RECEIVED.value_counts()"
   ]
  },
  {
   "cell_type": "code",
   "execution_count": 48,
   "metadata": {
    "scrolled": true
   },
   "outputs": [
    {
     "data": {
      "image/png": "[encoded data removed]",
      "text/plain": [
       "<Figure size 432x288 with 1 Axes>"
      ]
     },
     "metadata": {
      "needs_background": "light"
     },
     "output_type": "display_data"
    }
   ],
   "source": [
    "# Plot a bar graph based on groupby data\n",
    "yesno = {1:'Yes', 0:'No'}\n",
    "df.groupby(['APPOINTMENT_STATUS','SMS_RECEIVED']).size().unstack(fill_value=0).plot.bar()\n",
    "plt.legend([\"Yes\", \"NO\"],loc='center left', bbox_to_anchor=(1, 0.9))\n",
    "plt.title('APPOINTMENT_STATUS and SMS_received', fontsize = 16)\n",
    "plt.xlabel('APPOINTMENT_STATUS', fontsize=10,)\n",
    "plt.ylabel('Number of Patients', fontsize=10,)\n",
    "plt.show();"
   ]
  },
  {
   "cell_type": "markdown",
   "metadata": {},
   "source": [
    ">The percentage of no shows is much higher when SMS messages were received. The indicate that the sms sent did not improved the number of patients that shows up for the appointment"
   ]
  },
  {
   "cell_type": "markdown",
   "metadata": {},
   "source": [
    "### Research Question 4: If the location of the Neigbourhood is a determinant factor of patient to show or not show-up for appointments"
   ]
  },
  {
   "cell_type": "code",
   "execution_count": 49,
   "metadata": {
    "scrolled": true
   },
   "outputs": [
    {
     "data": {
      "text/plain": [
       "JARDIM CAMBURI                 7717\n",
       "MARIA ORTIZ                    5805\n",
       "RESISTÊNCIA                    4431\n",
       "JARDIM DA PENHA                3877\n",
       "ITARARÉ                        3514\n",
       "                               ... \n",
       "ILHA DO BOI                      35\n",
       "ILHA DO FRADE                    10\n",
       "AEROPORTO                         8\n",
       "ILHAS OCEÂNICAS DE TRINDADE       2\n",
       "PARQUE INDUSTRIAL                 1\n",
       "Name: NEIGHBOURHOOD, Length: 81, dtype: int64"
      ]
     },
     "execution_count": 49,
     "metadata": {},
     "output_type": "execute_result"
    }
   ],
   "source": [
    "df.NEIGHBOURHOOD.value_counts()"
   ]
  },
  {
   "cell_type": "code",
   "execution_count": 50,
   "metadata": {
    "scrolled": true
   },
   "outputs": [
    {
     "data": {
      "image/png": "[encoded data removed]",
      "text/plain": [
       "<Figure size 1440x360 with 1 Axes>"
      ]
     },
     "metadata": {
      "needs_background": "light"
     },
     "output_type": "display_data"
    }
   ],
   "source": [
    "df.NEIGHBOURHOOD.value_counts().plot(kind=\"bar\",figsize=(20,5),color='green');"
   ]
  },
  {
   "cell_type": "code",
   "execution_count": 51,
   "metadata": {
    "scrolled": true
   },
   "outputs": [
    {
     "data": {
      "image/png": "[encoded data removed]",
      "text/plain": [
       "<Figure size 1440x360 with 1 Axes>"
      ]
     },
     "metadata": {
      "needs_background": "light"
     },
     "output_type": "display_data"
    }
   ],
   "source": [
    "#check for the appointment status of patient per neighbourhood and age of the patients\n",
    "df[Show].groupby('NEIGHBOURHOOD').AGE.mean().plot(kind=\"bar\",stacked=True,figsize=(20,5),color='red',label='Show');\n",
    "df[No_Show].groupby('NEIGHBOURHOOD').AGE.mean().plot(kind=\"bar\",stacked=True,figsize=(20,5),color='blue',label='No_Show');\n",
    "plt.legend()\n",
    "plt.title('Ratio of Appointment to Neighbourhood')\n",
    "plt.xlabel('Neighbourhood')\n",
    "plt.ylabel('appointment booking');\n",
    "plt.show()"
   ]
  },
  {
   "cell_type": "markdown",
   "metadata": {},
   "source": [
    "<a id='conclusions'></a>\n",
    "## Conclusions\n",
    "\n",
    "> The analysis of the dataset and  relationships between variables.indicate that most patients  appointment which correlated with No show appointment status despite the difference in the illness of the patients. A high %79.81 of appointment booked didnt. \n",
    ">\n",
    ">It was also noticed that the number of illness wasnt significant in patients showing up for their appointment\n",
    ">\n",
    ">It was also observed that sending SMs to the paitents didnt help improve the attendance.\n",
    ">\n",
    ">The neighborhoods with most patients showing up for their appointments have low patients numbers. So, we couldn't conclude that these neighborhoods have a higher chance that patients won't miss their appointments."
   ]
  }
 ],
 "metadata": {
  "kernelspec": {
   "display_name": "Python 3 (ipykernel)",
   "language": "python",
   "name": "python3"
  },
  "language_info": {
   "codemirror_mode": {
    "name": "ipython",
    "version": 3
   },
   "file_extension": ".py",
   "mimetype": "text/x-python",
   "name": "python",
   "nbconvert_exporter": "python",
   "pygments_lexer": "ipython3",
   "version": "3.9.12"
  }
 },
 "nbformat": 4,
 "nbformat_minor": 2
}
